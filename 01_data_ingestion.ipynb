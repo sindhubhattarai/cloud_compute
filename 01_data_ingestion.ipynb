{
 "cells": [
  {
   "cell_type": "code",
   "execution_count": 2,
   "metadata": {},
   "outputs": [],
   "source": [
    "import pandas as pd\n",
    "import boto3\n",
    "import sagemaker\n",
    "import matplotlib.pyplot as plt\n",
    "import os\n",
    "import numpy as np\n",
    "\n",
    "\n"
   ]
  },
  {
   "cell_type": "code",
   "execution_count": 3,
   "metadata": {},
   "outputs": [
    {
     "name": "stdout",
     "output_type": "stream",
     "text": [
      "2022-03-28 23:55:22          0 \n",
      "2022-03-28 23:56:36       2603 aisles.csv\n"
     ]
    }
   ],
   "source": [
    "!aws s3 ls s3://oneclickdata/aisles/"
   ]
  },
  {
   "cell_type": "code",
   "execution_count": 4,
   "metadata": {},
   "outputs": [
    {
     "name": "stdout",
     "output_type": "stream",
     "text": [
      "2022-03-28 23:55:36          0 \n",
      "2022-03-28 23:57:10        270 departments.csv\n"
     ]
    }
   ],
   "source": [
    "!aws s3 ls s3://oneclickdata/departments/"
   ]
  },
  {
   "cell_type": "code",
   "execution_count": 5,
   "metadata": {},
   "outputs": [
    {
     "name": "stdout",
     "output_type": "stream",
     "text": [
      "2022-03-28 23:55:47          0 \n",
      "2022-03-29 22:04:13  577550706 order_products__prior.csv\n"
     ]
    }
   ],
   "source": [
    "!aws s3 ls s3://oneclickdata/prior/"
   ]
  },
  {
   "cell_type": "code",
   "execution_count": 6,
   "metadata": {},
   "outputs": [
    {
     "name": "stdout",
     "output_type": "stream",
     "text": [
      "2022-03-28 23:55:57          0 \n",
      "2022-03-29 00:02:30   24680147 order_products__train.csv\n"
     ]
    }
   ],
   "source": [
    "!aws s3 ls s3://oneclickdata/train/"
   ]
  },
  {
   "cell_type": "code",
   "execution_count": 7,
   "metadata": {},
   "outputs": [
    {
     "name": "stdout",
     "output_type": "stream",
     "text": [
      "2022-03-28 23:56:09          0 \n",
      "2022-03-28 23:57:51  108968645 orders.csv\n"
     ]
    }
   ],
   "source": [
    "!aws s3 ls s3://oneclickdata/orders/"
   ]
  },
  {
   "cell_type": "code",
   "execution_count": 8,
   "metadata": {},
   "outputs": [
    {
     "name": "stdout",
     "output_type": "stream",
     "text": [
      "2022-03-28 23:56:21          0 \n",
      "2022-03-29 00:01:56    2166953 products.csv\n"
     ]
    }
   ],
   "source": [
    "!aws s3 ls s3://oneclickdata/products/"
   ]
  },
  {
   "cell_type": "code",
   "execution_count": 9,
   "metadata": {},
   "outputs": [],
   "source": [
    "s3_public_path_csv = \"s3://oneclickdata\""
   ]
  },
  {
   "cell_type": "code",
   "execution_count": 10,
   "metadata": {},
   "outputs": [
    {
     "data": {
      "text/plain": [
       "'s3://oneclickdata'"
      ]
     },
     "execution_count": 10,
     "metadata": {},
     "output_type": "execute_result"
    }
   ],
   "source": [
    "s3_public_path_csv"
   ]
  },
  {
   "cell_type": "code",
   "execution_count": 11,
   "metadata": {},
   "outputs": [],
   "source": [
    "sess= sagemaker.Session()\n",
    "bucket = sess.default_bucket()\n",
    "role = sagemaker.get_execution_role()\n",
    "region = boto3.Session().region_name\n",
    "account_id = boto3.client(\"sts\").get_caller_identity().get(\"Account\")\n",
    "\n",
    "sm = boto3.Session().client(service_name=\"sagemaker\", region_name=region)"
   ]
  },
  {
   "cell_type": "code",
   "execution_count": 12,
   "metadata": {},
   "outputs": [
    {
     "name": "stdout",
     "output_type": "stream",
     "text": [
      "s3://sagemaker-us-east-1-222711858116/oneclickdata\n"
     ]
    }
   ],
   "source": [
    "s3_private_path_csv = \"s3://{}/oneclickdata\".format(bucket)\n",
    "print(s3_private_path_csv)\n",
    "\n"
   ]
  },
  {
   "cell_type": "code",
   "execution_count": 13,
   "metadata": {},
   "outputs": [
    {
     "name": "stdout",
     "output_type": "stream",
     "text": [
      "copy: s3://oneclickdata/aisles/aisles.csv to s3://sagemaker-us-east-1-222711858116/oneclickdata/aisles/aisles.csv\n",
      "copy: s3://oneclickdata/departments/departments.csv to s3://sagemaker-us-east-1-222711858116/oneclickdata/departments/departments.csv\n",
      "copy: s3://oneclickdata/prior/order_products__prior.csv to s3://sagemaker-us-east-1-222711858116/oneclickdata/prior/order_products__prior.csv\n",
      "copy: s3://oneclickdata/train/order_products__train.csv to s3://sagemaker-us-east-1-222711858116/oneclickdata/train/order_products__train.csv\n",
      "copy: s3://oneclickdata/orders/orders.csv to s3://sagemaker-us-east-1-222711858116/oneclickdata/orders/orders.csv\n",
      "copy: s3://oneclickdata/products/products.csv to s3://sagemaker-us-east-1-222711858116/oneclickdata/products/products.csv\n"
     ]
    }
   ],
   "source": [
    "!aws s3 cp --recursive $s3_public_path_csv/ $s3_private_path_csv/ --exclude \"*\" --include \"aisles/aisles.csv\"\n",
    "!aws s3 cp --recursive $s3_public_path_csv/ $s3_private_path_csv/ --exclude \"*\" --include \"departments/departments.csv\"\n",
    "!aws s3 cp --recursive $s3_public_path_csv/ $s3_private_path_csv/ --exclude \"*\" --include \"prior/order_products__prior.csv\"\n",
    "!aws s3 cp --recursive $s3_public_path_csv/ $s3_private_path_csv/ --exclude \"*\" --include \"train/order_products__train.csv\"\n",
    "!aws s3 cp --recursive $s3_public_path_csv/ $s3_private_path_csv/ --exclude \"*\" --include \"orders/orders.csv\"\n",
    "!aws s3 cp --recursive $s3_public_path_csv/ $s3_private_path_csv/ --exclude \"*\" --include \"products/products.csv\""
   ]
  },
  {
   "cell_type": "code",
   "execution_count": 14,
   "metadata": {},
   "outputs": [
    {
     "name": "stdout",
     "output_type": "stream",
     "text": [
      "2022-04-16 22:34:05       2603 aisles.csv\n"
     ]
    }
   ],
   "source": [
    "!aws s3 ls $s3_private_path_csv/aisles/"
   ]
  },
  {
   "cell_type": "code",
   "execution_count": 15,
   "metadata": {},
   "outputs": [
    {
     "data": {
      "text/html": [
       "<b>Review <a target=\"blank\" href=\"https://s3.console.aws.amazon.com/s3/buckets/sagemaker-us-east-1-222711858116/oneclickdata/?region=us-east-1&tab=overview\">S3 Bucket</a></b>"
      ],
      "text/plain": [
       "<IPython.core.display.HTML object>"
      ]
     },
     "metadata": {},
     "output_type": "display_data"
    }
   ],
   "source": [
    "from IPython.core.display import display, HTML\n",
    "\n",
    "display(\n",
    "    HTML(\n",
    "        '<b>Review <a target=\"blank\" href=\"https://s3.console.aws.amazon.com/s3/buckets/sagemaker-{}-{}/oneclickdata/?region={}&tab=overview\">S3 Bucket</a></b>'.format(\n",
    "            region, account_id, region\n",
    "        )\n",
    "    )\n",
    ")"
   ]
  },
  {
   "cell_type": "code",
   "execution_count": null,
   "metadata": {},
   "outputs": [],
   "source": []
  }
 ],
 "metadata": {
  "instance_type": "ml.t3.medium",
  "kernelspec": {
   "display_name": "Python 3 (Data Science)",
   "language": "python",
   "name": "python3__SAGEMAKER_INTERNAL__arn:aws:sagemaker:us-east-1:081325390199:image/datascience-1.0"
  },
  "language_info": {
   "codemirror_mode": {
    "name": "ipython",
    "version": 3
   },
   "file_extension": ".py",
   "mimetype": "text/x-python",
   "name": "python",
   "nbconvert_exporter": "python",
   "pygments_lexer": "ipython3",
   "version": "3.7.10"
  }
 },
 "nbformat": 4,
 "nbformat_minor": 4
}
